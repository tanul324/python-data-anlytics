{
 "cells": [
  {
   "cell_type": "code",
   "execution_count": 1,
   "metadata": {},
   "outputs": [
    {
     "name": "stdout",
     "output_type": "stream",
     "text": [
      "even\n"
     ]
    }
   ],
   "source": [
    "num = int(input(\"enter a number\"))\n",
    "\n",
    "if num % 2 == 0:\n",
    "    print('even')\n",
    "else:\n",
    "    print('odd')\n"
   ]
  },
  {
   "cell_type": "code",
   "execution_count": 3,
   "metadata": {},
   "outputs": [
    {
     "name": "stdout",
     "output_type": "stream",
     "text": [
      "you are eligible\n"
     ]
    }
   ],
   "source": [
    "# WAP to check if a user is eligible to vote\n",
    "age= int(input('enter your age'))\n",
    "if age >= 18:\n",
    "        print('you are eligible')\n",
    "else:\n",
    "    print('you are not elegible')\n",
    "    \n",
    "\n"
   ]
  },
  {
   "cell_type": "code",
   "execution_count": 5,
   "metadata": {},
   "outputs": [
    {
     "name": "stdout",
     "output_type": "stream",
     "text": [
      "Divisible by 3 and 5\n"
     ]
    }
   ],
   "source": [
    "num1 = int(input('enter number'))\n",
    "\n",
    "if num1%3 == 0 and num1%5 == 0:\n",
    "    print('Divisible by 3 and 5')\n",
    "else:\n",
    "    print('Not divisible by 3 and 5')"
   ]
  },
  {
   "cell_type": "code",
   "execution_count": 6,
   "metadata": {},
   "outputs": [
    {
     "name": "stdout",
     "output_type": "stream",
     "text": [
      "positive\n"
     ]
    }
   ],
   "source": [
    "num2 = int(input('enter number'))\n",
    "if num2 > 0:\n",
    "    print('positive')\n",
    "elif num2 <0:\n",
    "    print('negetive')\n",
    "else:\n",
    "    print('zero')"
   ]
  },
  {
   "cell_type": "code",
   "execution_count": null,
   "metadata": {},
   "outputs": [],
   "source": [
    "marks>90 - A\n",
    "\n",
    "\n",
    "\n",
    "70<marks<90 - B\n",
    "50<marks<70 - c \n",
    "marks<30 - FAIL  \n"
   ]
  },
  {
   "cell_type": "code",
   "execution_count": 2,
   "metadata": {},
   "outputs": [
    {
     "name": "stdout",
     "output_type": "stream",
     "text": [
      "grade B\n"
     ]
    }
   ],
   "source": [
    "marks = int (input('enter your marks'))\n",
    "if marks <= 100 and marks >= 90:\n",
    "    print('grade A')\n",
    "elif marks <= 90 and marks >= 70 :\n",
    "    print('grade B')\n",
    "else : \n",
    "    print('Fail')\n",
    "\n",
    "\n",
    "\n",
    "    \n",
    "    \n"
   ]
  },
  {
   "cell_type": "code",
   "execution_count": 3,
   "metadata": {},
   "outputs": [
    {
     "name": "stdout",
     "output_type": "stream",
     "text": [
      "A+\n",
      "A\n",
      "B\n",
      "c\n",
      "D\n",
      "fail\n"
     ]
    }
   ],
   "source": [
    "marks = 95\n",
    "if marks >= 90:\n",
    "    print('A+')\n",
    "if marks >= 80:\n",
    "    print('A')\n",
    "if marks >= 70:\n",
    "    print('B')\n",
    "if marks >= 60:\n",
    "    print('c')\n",
    "if marks >= 60:\n",
    "    print('D')\n",
    "if marks >= 50:\n",
    "    print('fail')\n",
    "    \n",
    "\n",
    "    \n"
   ]
  },
  {
   "cell_type": "code",
   "execution_count": 4,
   "metadata": {},
   "outputs": [
    {
     "name": "stdout",
     "output_type": "stream",
     "text": [
      "A+\n"
     ]
    }
   ],
   "source": [
    "marks = 95\n",
    "if marks >= 90:\n",
    "    print('A+')\n",
    "elif marks >= 80:\n",
    "    print('A')\n",
    "elif marks >= 70:\n",
    "    print('B')\n",
    "elif marks >= 60:\n",
    "    print('c')\n",
    "elif marks >= 60:\n",
    "    print('D')\n",
    "elif marks >= 50:\n",
    "    print('fail')"
   ]
  },
  {
   "cell_type": "code",
   "execution_count": 9,
   "metadata": {},
   "outputs": [
    {
     "name": "stdout",
     "output_type": "stream",
     "text": [
      "issoceleouS Triangle\n"
     ]
    }
   ],
   "source": [
    "a=12\n",
    "b=12\n",
    "c=14\n",
    "if  a==b and b==c :\n",
    "    print('equilateral Triangle')\n",
    "    \n",
    "elif  a==b :   \n",
    "    print('issoceleouS Triangle')\n",
    "    \n",
    "    \n",
    "else :\n",
    "    print('scalen Triangle')\n",
    "    "
   ]
  },
  {
   "cell_type": "code",
   "execution_count": 20,
   "metadata": {},
   "outputs": [
    {
     "name": "stdout",
     "output_type": "stream",
     "text": [
      "vowel\n"
     ]
    }
   ],
   "source": [
    "user=input('enter a character')\n",
    "if user == 'a' or user=='e' or user=='i' or user=='o':\n",
    "    print('vowel')\n",
    "else:\n",
    "    print('consonent')\n",
    "\n"
   ]
  },
  {
   "cell_type": "code",
   "execution_count": 23,
   "metadata": {},
   "outputs": [
    {
     "name": "stdout",
     "output_type": "stream",
     "text": [
      "a is not greater than b\n"
     ]
    }
   ],
   "source": [
    "a = 10\n",
    "b = 20\n",
    "c = 30\n",
    "if a > b:\n",
    "    if a>c:   \n",
    "        print('a is the greatest')\n",
    "    else:\n",
    "        print('a is not greater than c')\n",
    "else:\n",
    "    print('a is not greater than b')"
   ]
  },
  {
   "cell_type": "code",
   "execution_count": null,
   "metadata": {},
   "outputs": [],
   "source": []
  }
 ],
 "metadata": {
  "kernelspec": {
   "display_name": "base",
   "language": "python",
   "name": "python3"
  },
  "language_info": {
   "codemirror_mode": {
    "name": "ipython",
    "version": 3
   },
   "file_extension": ".py",
   "mimetype": "text/x-python",
   "name": "python",
   "nbconvert_exporter": "python",
   "pygments_lexer": "ipython3",
   "version": "3.12.4"
  }
 },
 "nbformat": 4,
 "nbformat_minor": 2
}
