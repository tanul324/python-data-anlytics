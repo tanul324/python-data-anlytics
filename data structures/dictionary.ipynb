{
 "cells": [
  {
   "cell_type": "markdown",
   "metadata": {},
   "source": [
    "## dictionary"
   ]
  },
  {
   "cell_type": "markdown",
   "metadata": {},
   "source": [
    "- how to declare dictionary in diffrent ways\n",
    "-  how to access key and values of dictionary\n",
    "-  how to use loops in dictionary\n",
    "- nested dictionary"
   ]
  },
  {
   "cell_type": "code",
   "execution_count": 2,
   "metadata": {},
   "outputs": [
    {
     "name": "stdout",
     "output_type": "stream",
     "text": [
      "{'name': 'john', 'class': '12th', 'roll no': 2, 'age': 17}\n"
     ]
    }
   ],
   "source": [
    "student = {\n",
    "    \"name\": \"john\",\n",
    "    \"class\" : \"12th\",\n",
    "    \"roll no\" : 2,\n",
    "    \"age\": 17\n",
    "}\n",
    "print(student)"
   ]
  },
  {
   "cell_type": "code",
   "execution_count": 3,
   "metadata": {},
   "outputs": [
    {
     "name": "stdout",
     "output_type": "stream",
     "text": [
      "{'lucknow': [25, 30, 35], 'delhi': [30, 35, 40], 'chennai': [24, 23, 22]}\n"
     ]
    }
   ],
   "source": [
    "temp = {\n",
    "    'lucknow':[25,30,35],\n",
    "    'delhi':[30,35,40],\n",
    "    'chennai':[24,23,22]\n",
    "}\n",
    "print(temp)"
   ]
  },
  {
   "cell_type": "code",
   "execution_count": 4,
   "metadata": {},
   "outputs": [
    {
     "name": "stdout",
     "output_type": "stream",
     "text": [
      "{'name': 'john', 'age': '17', 'roll_no': 2, 'class_': '12th'}\n"
     ]
    }
   ],
   "source": [
    "info = dict(name = 'john',age = '17', roll_no= 2, class_ = '12th')\n",
    "print(info)"
   ]
  },
  {
   "cell_type": "code",
   "execution_count": 10,
   "metadata": {},
   "outputs": [
    {
     "name": "stdout",
     "output_type": "stream",
     "text": [
      "{'name': 'tanul', 'age': 19, 'rool_no': 23, 'class_': '10th'}\n"
     ]
    }
   ],
   "source": [
    "info2 = dict(name=input(\"enter your name:\"),\n",
    "        age = int(input(\"enter your age:\")),\n",
    "        rool_no = int(input(\"enter your roll_no:\")),\n",
    "        class_=input(\"enter your class:\"))\n",
    "print(info2)\n"
   ]
  },
  {
   "cell_type": "code",
   "execution_count": 11,
   "metadata": {},
   "outputs": [
    {
     "name": "stdout",
     "output_type": "stream",
     "text": [
      "john\n",
      "[25, 30, 35]\n"
     ]
    }
   ],
   "source": [
    "print(student['name'])\n",
    "print(temp['lucknow'])"
   ]
  },
  {
   "cell_type": "code",
   "execution_count": 12,
   "metadata": {},
   "outputs": [
    {
     "name": "stdout",
     "output_type": "stream",
     "text": [
      "17\n",
      "None\n"
     ]
    }
   ],
   "source": [
    "#2nd method to access the value of the key\n",
    "print(student.get('age'))\n",
    "print(info2.get('roll_no'))\n",
    "\n",
    "\n",
    "\n",
    "\n",
    "\n",
    "\n",
    "\n",
    "\n"
   ]
  },
  {
   "cell_type": "code",
   "execution_count": 13,
   "metadata": {},
   "outputs": [
    {
     "name": "stdout",
     "output_type": "stream",
     "text": [
      "{'name': 'john', 'class': '12th', 'roll no': 2, 'age': 17, 'city': 'lucknow', 'school': 'DPS'}\n"
     ]
    }
   ],
   "source": [
    "#to add items in a dictionary\n",
    "student['city']='lucknow'\n",
    "student['school']=\"DPS\"\n",
    "print(student)"
   ]
  },
  {
   "cell_type": "code",
   "execution_count": 15,
   "metadata": {},
   "outputs": [
    {
     "name": "stdout",
     "output_type": "stream",
     "text": [
      "{'name': 'john', 'class': '12th', 'roll no': 2, 'age': 17, 'city': 'lucknow'}\n"
     ]
    }
   ],
   "source": [
    "#to remoove items from dictionary\n",
    "student.pop('school')\n",
    "print(student)"
   ]
  },
  {
   "cell_type": "code",
   "execution_count": 18,
   "metadata": {},
   "outputs": [
    {
     "name": "stdout",
     "output_type": "stream",
     "text": [
      "{'name': 'john', 'class': '12th', 'age': 17, 'city': 'lucknow'}\n"
     ]
    }
   ],
   "source": [
    "#using del method\n",
    "del student['roll no']\n",
    "print(student)"
   ]
  },
  {
   "cell_type": "code",
   "execution_count": 19,
   "metadata": {},
   "outputs": [
    {
     "name": "stdout",
     "output_type": "stream",
     "text": [
      "name\n",
      "age\n",
      "roll_no\n",
      "class_\n"
     ]
    }
   ],
   "source": [
    "for k in info:\n",
    "    print(k)\n",
    "\n",
    "\n"
   ]
  },
  {
   "cell_type": "code",
   "execution_count": 20,
   "metadata": {},
   "outputs": [
    {
     "name": "stdout",
     "output_type": "stream",
     "text": [
      "name:tanul\n",
      "age:19\n",
      "rool_no:23\n",
      "class_:10th\n"
     ]
    }
   ],
   "source": [
    "for k ,v in info2.items():\n",
    "    print(f\"{k}:{v}\")"
   ]
  },
  {
   "cell_type": "code",
   "execution_count": 21,
   "metadata": {},
   "outputs": [
    {
     "name": "stdout",
     "output_type": "stream",
     "text": [
      "dict_values(['john', '12th', 17, 'lucknow'])\n",
      "dict_keys(['name', 'class', 'age', 'city'])\n",
      "dict_items([('name', 'john'), ('class', '12th'), ('age', 17), ('city', 'lucknow')])\n"
     ]
    }
   ],
   "source": [
    "print(student.values())\n",
    "print(student.keys())\n",
    "print(student.items())"
   ]
  },
  {
   "cell_type": "code",
   "execution_count": 24,
   "metadata": {},
   "outputs": [
    {
     "name": "stdout",
     "output_type": "stream",
     "text": [
      "{'emp001': {'name': 'john', 'age': 25, 'dept': 'HR', 'salary': 30000}, 'emp002': {'name': 'emma', 'age': 30, 'dept': 'finance', 'salary': 30000}, 'emp03': {'name': 'linda', 'age': 35, 'dept': 'IT', 'salary': 35000}, 'emp04': {'name': 'tanul', 'age': 18, 'dept': 'admin', 'salary': 70000}}\n"
     ]
    }
   ],
   "source": [
    "company={\n",
    "    'emp001' : {'name':'john','age':25,'dept':'HR','salary':30000},\n",
    "    'emp002':{'name':'emma','age':30,'dept':'finance','salary':30000},\n",
    "    'emp03':{'name':'linda','age':35,'dept':'IT','salary':35000},\n",
    "    'emp04':{'name':'tanul','age':18,'dept':'admin','salary':70000}\n",
    "}\n",
    "print(company)"
   ]
  },
  {
   "cell_type": "code",
   "execution_count": 25,
   "metadata": {},
   "outputs": [],
   "source": [
    "from pprint import pp"
   ]
  },
  {
   "cell_type": "code",
   "execution_count": 26,
   "metadata": {},
   "outputs": [
    {
     "name": "stdout",
     "output_type": "stream",
     "text": [
      "{'emp001': {'name': 'john', 'age': 25, 'dept': 'HR', 'salary': 30000},\n",
      " 'emp002': {'name': 'emma', 'age': 30, 'dept': 'finance', 'salary': 30000},\n",
      " 'emp03': {'name': 'linda', 'age': 35, 'dept': 'IT', 'salary': 35000},\n",
      " 'emp04': {'name': 'tanul', 'age': 18, 'dept': 'admin', 'salary': 70000}}\n"
     ]
    }
   ],
   "source": [
    "pp(company)"
   ]
  },
  {
   "cell_type": "code",
   "execution_count": 27,
   "metadata": {},
   "outputs": [
    {
     "name": "stdout",
     "output_type": "stream",
     "text": [
      "{'name': 'emma', 'age': 30, 'dept': 'finance', 'salary': 30000}\n"
     ]
    }
   ],
   "source": [
    "print(company['emp002'])"
   ]
  },
  {
   "cell_type": "code",
   "execution_count": 28,
   "metadata": {},
   "outputs": [
    {
     "name": "stdout",
     "output_type": "stream",
     "text": [
      "finance\n"
     ]
    }
   ],
   "source": [
    "print(company['emp002']['dept'])"
   ]
  },
  {
   "cell_type": "code",
   "execution_count": 33,
   "metadata": {},
   "outputs": [
    {
     "name": "stdout",
     "output_type": "stream",
     "text": [
      "18\n"
     ]
    }
   ],
   "source": [
    "print(company['emp04']['age'])"
   ]
  },
  {
   "cell_type": "code",
   "execution_count": 38,
   "metadata": {},
   "outputs": [
    {
     "name": "stdout",
     "output_type": "stream",
     "text": [
      "{'emp001': {'name': 'john', 'age': 25, 'dept': 'HR', 'salary': 30000}, 'emp002': {'name': 'emma', 'age': 30, 'dept': 'finance', 'salary': 30000}, 'emp03': {'name': 'linda', 'age': 35, 'dept': 'IT', 'salary': 35000}, 'emp04': ({'name': 'tanul', 'age': 18, 'dept': 'admin', 'salary': 70000},), 'emp05': ({'name': 'akash', 'age': 19, 'dept': 'admin', 'salary': 80000},)}\n"
     ]
    }
   ],
   "source": [
    "company['emp04']={'name':'tanul','age':18,'dept':'admin','salary':70000},\n",
    "company['emp05']={'name':'akash','age':19,'dept':'admin','salary':80000},\n",
    "print(company)\n"
   ]
  },
  {
   "cell_type": "code",
   "execution_count": 39,
   "metadata": {},
   "outputs": [
    {
     "name": "stdout",
     "output_type": "stream",
     "text": [
      "{'emp001': {'name': 'john', 'age': 25, 'dept': 'HR', 'salary': 30000},\n",
      " 'emp002': {'name': 'emma', 'age': 30, 'dept': 'finance', 'salary': 30000},\n",
      " 'emp03': {'name': 'linda', 'age': 35, 'dept': 'IT', 'salary': 35000},\n",
      " 'emp04': ({'name': 'tanul', 'age': 18, 'dept': 'admin', 'salary': 70000},),\n",
      " 'emp05': ({'name': 'akash', 'age': 19, 'dept': 'admin', 'salary': 80000},)}\n"
     ]
    }
   ],
   "source": [
    "pp(company)"
   ]
  },
  {
   "cell_type": "code",
   "execution_count": 40,
   "metadata": {},
   "outputs": [
    {
     "name": "stdout",
     "output_type": "stream",
     "text": [
      "25\n",
      "40\n"
     ]
    }
   ],
   "source": [
    "#indexing in dictionary\n",
    "print(temp['lucknow'][0])\n",
    "print(temp['delhi'][2])"
   ]
  },
  {
   "cell_type": "code",
   "execution_count": 42,
   "metadata": {},
   "outputs": [
    {
     "name": "stdout",
     "output_type": "stream",
     "text": [
      "average temp in delhi is 35.0\n"
     ]
    }
   ],
   "source": [
    "#average of temp in delhi\n",
    "temp={'delhi':[30,35,40],}\n",
    "print('average temp in delhi is',sum(temp['delhi'])/len(temp['delhi']))"
   ]
  },
  {
   "cell_type": "code",
   "execution_count": null,
   "metadata": {},
   "outputs": [],
   "source": []
  }
 ],
 "metadata": {
  "kernelspec": {
   "display_name": "base",
   "language": "python",
   "name": "python3"
  },
  "language_info": {
   "codemirror_mode": {
    "name": "ipython",
    "version": 3
   },
   "file_extension": ".py",
   "mimetype": "text/x-python",
   "name": "python",
   "nbconvert_exporter": "python",
   "pygments_lexer": "ipython3",
   "version": "3.12.4"
  }
 },
 "nbformat": 4,
 "nbformat_minor": 2
}
