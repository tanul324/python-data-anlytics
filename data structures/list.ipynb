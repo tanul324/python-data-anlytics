{
 "cells": [
  {
   "cell_type": "code",
   "execution_count": 2,
   "metadata": {},
   "outputs": [
    {
     "name": "stdout",
     "output_type": "stream",
     "text": [
      "['google', 'chrome', 'drive', 'insta', 'swiggy', 'facebook', 'zomato', 'phonepay', 'snapchatuber', 'amazon', 'meesho', 'telegram', 'camera', 'youtube']\n"
     ]
    }
   ],
   "source": [
    "apps = ['google' , 'chrome','drive','insta','swiggy','facebook','zomato','phonepay','snapchat''uber','amazon','meesho','telegram','camera','youtube']\n",
    "print(apps)"
   ]
  },
  {
   "cell_type": "code",
   "execution_count": 7,
   "metadata": {},
   "outputs": [
    {
     "name": "stdout",
     "output_type": "stream",
     "text": [
      "facebook\n",
      "zomato\n",
      "snapchatuber\n",
      "meesho\n",
      "drive\n",
      "meesho\n"
     ]
    }
   ],
   "source": [
    "print(apps[5])\n",
    "print(apps[6])\n",
    "print(apps[8])\n",
    "print(apps[10])\n",
    "print(apps[2])\n",
    "print(apps[-4])"
   ]
  },
  {
   "cell_type": "code",
   "execution_count": 8,
   "metadata": {},
   "outputs": [
    {
     "name": "stdout",
     "output_type": "stream",
     "text": [
      "['insta', 'swiggy', 'facebook', 'zomato', 'phonepay']\n"
     ]
    }
   ],
   "source": [
    "print(apps[3:8])"
   ]
  },
  {
   "cell_type": "code",
   "execution_count": 11,
   "metadata": {},
   "outputs": [
    {
     "name": "stdout",
     "output_type": "stream",
     "text": [
      "['chrome', 'drive', 'insta', 'swiggy', 'facebook', 'zomato']\n"
     ]
    }
   ],
   "source": [
    "print(apps[1:7])"
   ]
  },
  {
   "cell_type": "code",
   "execution_count": null,
   "metadata": {},
   "outputs": [],
   "source": []
  }
 ],
 "metadata": {
  "kernelspec": {
   "display_name": "base",
   "language": "python",
   "name": "python3"
  },
  "language_info": {
   "codemirror_mode": {
    "name": "ipython",
    "version": 3
   },
   "file_extension": ".py",
   "mimetype": "text/x-python",
   "name": "python",
   "nbconvert_exporter": "python",
   "pygments_lexer": "ipython3",
   "version": "3.12.4"
  }
 },
 "nbformat": 4,
 "nbformat_minor": 2
}
