{
 "cells": [
  {
   "cell_type": "code",
   "execution_count": 1,
   "metadata": {},
   "outputs": [
    {
     "name": "stdout",
     "output_type": "stream",
     "text": [
      "['orange', 'apple', 'banana', 'kiwi', 'pear']\n"
     ]
    }
   ],
   "source": [
    "fruits = ['orange','apple','banana','kiwi','pear']\n",
    "print(fruits)"
   ]
  },
  {
   "cell_type": "code",
   "execution_count": 2,
   "metadata": {},
   "outputs": [
    {
     "name": "stdout",
     "output_type": "stream",
     "text": [
      "orange\n",
      "apple\n",
      "banana\n",
      "kiwi\n",
      "pear\n"
     ]
    }
   ],
   "source": [
    "for fruit in fruits:\n",
    "    print(fruit)"
   ]
  },
  {
   "cell_type": "code",
   "execution_count": 3,
   "metadata": {},
   "outputs": [
    {
     "name": "stdout",
     "output_type": "stream",
     "text": [
      "orange🥗🥗apple🥗🥗banana🥗🥗kiwi🥗🥗pear🥗🥗"
     ]
    }
   ],
   "source": [
    "for fruit in fruits:\n",
    "    print(fruit, end='🥗🥗')"
   ]
  },
  {
   "cell_type": "code",
   "execution_count": 6,
   "metadata": {},
   "outputs": [
    {
     "name": "stdout",
     "output_type": "stream",
     "text": [
      "Tanulyadav"
     ]
    }
   ],
   "source": [
    "name = \"Tanulyadav\"\n",
    "for x in name:\n",
    "    print(x,end=\"\")"
   ]
  },
  {
   "cell_type": "code",
   "execution_count": 7,
   "metadata": {},
   "outputs": [
    {
     "name": "stdout",
     "output_type": "stream",
     "text": [
      "0\n",
      "1\n",
      "2\n",
      "3\n",
      "4\n",
      "5\n",
      "6\n",
      "7\n",
      "8\n",
      "9\n"
     ]
    }
   ],
   "source": [
    "for num in range(10):\n",
    "    print(num)"
   ]
  },
  {
   "cell_type": "code",
   "execution_count": 10,
   "metadata": {},
   "outputs": [
    {
     "name": "stdout",
     "output_type": "stream",
     "text": [
      "tanul\n",
      "tanul\n",
      "tanul\n",
      "tanul\n",
      "tanul\n"
     ]
    }
   ],
   "source": [
    "for name in range(5):\n",
    "    print(\"tanul\")\n",
    "\n",
    "    "
   ]
  },
  {
   "cell_type": "code",
   "execution_count": 12,
   "metadata": {},
   "outputs": [
    {
     "name": "stdout",
     "output_type": "stream",
     "text": [
      "sum: 15\n",
      "sum of 10 and 5 is 15\n",
      "sum of 10 and 5 is 15\n"
     ]
    }
   ],
   "source": [
    "a =10\n",
    "b =5\n",
    "sum = a+b   \n",
    "print(\"sum:\",sum)\n",
    "print(\"sum of\",a,\"and\",b,\"is\",sum)\n",
    "print(f\"sum of {a} and {b} is {sum}\")\n"
   ]
  },
  {
   "cell_type": "code",
   "execution_count": 15,
   "metadata": {},
   "outputs": [
    {
     "name": "stdout",
     "output_type": "stream",
     "text": [
      "15*1=15\n",
      "15*2=30\n",
      "15*3=45\n",
      "15*4=60\n",
      "15*5=75\n",
      "15*6=90\n",
      "15*7=105\n",
      "15*8=120\n",
      "15*9=135\n",
      "15*10=150\n"
     ]
    }
   ],
   "source": [
    "for i in range(1,11):\n",
    "    print(f\"15*{i}={15*i}\")\n"
   ]
  },
  {
   "cell_type": "code",
   "execution_count": 2,
   "metadata": {},
   "outputs": [
    {
     "name": "stdout",
     "output_type": "stream",
     "text": [
      "0\n",
      "1\n",
      "2\n",
      "3\n",
      "4\n",
      "5\n",
      "6\n",
      "7\n",
      "8\n",
      "9\n",
      "10\n"
     ]
    }
   ],
   "source": [
    "for num in range(11):\n",
    "    print(num)"
   ]
  },
  {
   "cell_type": "code",
   "execution_count": 3,
   "metadata": {},
   "outputs": [
    {
     "name": "stdout",
     "output_type": "stream",
     "text": [
      "17*1=17\n",
      "17*2=34\n",
      "17*3=51\n",
      "17*4=68\n",
      "17*5=85\n",
      "17*6=102\n",
      "17*7=119\n",
      "17*8=136\n",
      "17*9=153\n",
      "17*10=170\n"
     ]
    }
   ],
   "source": [
    "for i in range(1,11):\n",
    "    print(f\"17*{i}={17*i}\")"
   ]
  },
  {
   "cell_type": "code",
   "execution_count": 10,
   "metadata": {},
   "outputs": [
    {
     "name": "stdout",
     "output_type": "stream",
     "text": [
      "sum=0+2\n",
      "sum=2+4\n",
      "sum=4+6\n",
      "sum=6+8\n",
      "sum=8+10\n",
      "sum=10+12\n",
      "sum=12+14\n",
      "sum=14+16\n",
      "sum=16+18\n",
      "sum=18+20\n",
      "sum=20+22\n",
      "sum=22+24\n",
      "sum=24+26\n",
      "sum=26+28\n",
      "sum=28+30\n",
      "sum=30+32\n",
      "sum=32+34\n",
      "sum=34+36\n",
      "sum=36+38\n",
      "sum=38+40\n",
      "sum=40+42\n",
      "sum=42+44\n",
      "sum=44+46\n",
      "sum=46+48\n",
      "sum=48+50\n",
      "sum=50+52\n",
      "sum=52+54\n",
      "sum=54+56\n",
      "sum=56+58\n",
      "sum=58+60\n",
      "sum=60+62\n",
      "sum=62+64\n",
      "sum=64+66\n",
      "sum=66+68\n",
      "sum=68+70\n",
      "sum=70+72\n",
      "sum=72+74\n",
      "sum=74+76\n",
      "sum=76+78\n",
      "sum=78+80\n",
      "sum=80+82\n",
      "sum=82+84\n",
      "sum=84+86\n",
      "sum=86+88\n",
      "sum=88+90\n",
      "sum=90+92\n",
      "sum=92+94\n",
      "sum=94+96\n",
      "sum=96+98\n",
      "sum=98+100\n",
      "sum=100+102\n"
     ]
    }
   ],
   "source": [
    "for i in range(0,101,2):\n",
    "    print(f\"sum={i}+{i+2}\")\n"
   ]
  },
  {
   "cell_type": "code",
   "execution_count": 11,
   "metadata": {},
   "outputs": [
    {
     "name": "stdout",
     "output_type": "stream",
     "text": [
      "2\n",
      "4\n",
      "6\n",
      "8\n",
      "10\n",
      "12\n",
      "14\n",
      "16\n",
      "18\n",
      "20\n"
     ]
    }
   ],
   "source": [
    "for i in range(2,21,2):\n",
    "    print(i)"
   ]
  },
  {
   "cell_type": "code",
   "execution_count": 13,
   "metadata": {},
   "outputs": [
    {
     "name": "stdout",
     "output_type": "stream",
     "text": [
      "2\n",
      "4\n",
      "6\n",
      "8\n",
      "10\n",
      "12\n",
      "14\n",
      "16\n",
      "18\n",
      "20\n"
     ]
    }
   ],
   "source": [
    "for i in range(2,21):\n",
    "    if i % 2 == 0:\n",
    "        \n",
    "        print(i)"
   ]
  },
  {
   "cell_type": "code",
   "execution_count": 14,
   "metadata": {},
   "outputs": [
    {
     "name": "stdout",
     "output_type": "stream",
     "text": [
      "2\n",
      "4\n",
      "6\n",
      "8\n",
      "10\n",
      "12\n",
      "14\n",
      "16\n",
      "18\n",
      "20\n",
      "sum of even numbers from 1 to 20 is  110\n"
     ]
    }
   ],
   "source": [
    "sum = 0\n",
    "for i in range(1,21):\n",
    "    if i%2 == 0:\n",
    "        print(i)   \n",
    "        sum = sum+i\n",
    "print(\"sum of even numbers from 1 to 20 is \", sum)\n",
    "        \n"
   ]
  },
  {
   "cell_type": "code",
   "execution_count": 16,
   "metadata": {},
   "outputs": [
    {
     "name": "stdout",
     "output_type": "stream",
     "text": [
      "sum of even numbers from 1 to 100 5050\n"
     ]
    }
   ],
   "source": [
    "#sum of integers from 1 to 100 \n",
    "sum = 0\n",
    "for i in range(1,101):\n",
    "    sum = sum+i\n",
    "print('sum of even numbers from 1 to 100', sum)"
   ]
  },
  {
   "cell_type": "code",
   "execution_count": 19,
   "metadata": {},
   "outputs": [
    {
     "name": "stdout",
     "output_type": "stream",
     "text": [
      "sum of integers from 1 to 100 is 5050\n"
     ]
    }
   ],
   "source": [
    "sum = 0\n",
    "num = 1\n",
    "while num <= 100:\n",
    "    sum = sum + num\n",
    "    num = num + 1\n",
    "print(\"sum of integers from 1 to 100 is\",sum)"
   ]
  },
  {
   "cell_type": "markdown",
   "metadata": {},
   "source": [
    "BREAK AND CONTINUE"
   ]
  },
  {
   "cell_type": "code",
   "execution_count": 4,
   "metadata": {},
   "outputs": [
    {
     "name": "stdout",
     "output_type": "stream",
     "text": [
      "orange\n",
      "apple\n",
      "pear\n",
      "banana\n",
      "kiwi\n",
      "apple\n"
     ]
    }
   ],
   "source": [
    "fruits = ['orange','apple','pear','banana','tomato','kiwi','apple']\n",
    "for fruit in fruits:\n",
    "    if fruit == \"tomato\":\n",
    "        continue\n",
    "    print(fruit)"
   ]
  },
  {
   "cell_type": "code",
   "execution_count": 8,
   "metadata": {},
   "outputs": [
    {
     "name": "stdout",
     "output_type": "stream",
     "text": [
      "T\n",
      "A\n",
      "N\n"
     ]
    }
   ],
   "source": [
    "name = ['T','A','N','U','L']\n",
    "for t in name:\n",
    "    if t == \"U\":\n",
    "        break\n",
    "    print(t)"
   ]
  },
  {
   "cell_type": "code",
   "execution_count": 9,
   "metadata": {},
   "outputs": [
    {
     "name": "stdout",
     "output_type": "stream",
     "text": [
      "0.orange\n",
      "1.apple\n",
      "2.pear\n",
      "3.banana\n",
      "4.tomato\n",
      "5.kiwi\n",
      "6.apple\n"
     ]
    }
   ],
   "source": [
    "for i,v in enumerate(fruits):\n",
    "    print(f'{i}.{v}')"
   ]
  },
  {
   "cell_type": "code",
   "execution_count": 14,
   "metadata": {},
   "outputs": [
    {
     "name": "stdout",
     "output_type": "stream",
     "text": [
      "0.pen\n",
      "1.pencil\n",
      "2.eraser\n",
      "3.sharpner\n",
      "4.scale\n",
      "5.book\n",
      "6.bag\n",
      "7.bottle\n"
     ]
    }
   ],
   "source": [
    "items = ['pen','pencil','eraser','sharpner','scale','book','bag','bottle','lunchbox','tiffin']\n",
    "for i ,v in enumerate(items):\n",
    "    if i == 8:\n",
    "        break\n",
    "    print(f'{i}.{v}')"
   ]
  },
  {
   "cell_type": "code",
   "execution_count": null,
   "metadata": {},
   "outputs": [],
   "source": []
  }
 ],
 "metadata": {
  "kernelspec": {
   "display_name": "base",
   "language": "python",
   "name": "python3"
  },
  "language_info": {
   "codemirror_mode": {
    "name": "ipython",
    "version": 3
   },
   "file_extension": ".py",
   "mimetype": "text/x-python",
   "name": "python",
   "nbconvert_exporter": "python",
   "pygments_lexer": "ipython3",
   "version": "3.12.4"
  }
 },
 "nbformat": 4,
 "nbformat_minor": 2
}
